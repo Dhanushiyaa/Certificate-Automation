{
  "nbformat": 4,
  "nbformat_minor": 0,
  "metadata": {
    "colab": {
      "provenance": [],
      "authorship_tag": "ABX9TyMrLC5IgLv7hAc9SPKNZRPf",
      "include_colab_link": true
    },
    "kernelspec": {
      "name": "python3",
      "display_name": "Python 3"
    },
    "language_info": {
      "name": "python"
    }
  },
  "cells": [
    {
      "cell_type": "markdown",
      "metadata": {
        "id": "view-in-github",
        "colab_type": "text"
      },
      "source": [
        "<a href=\"https://colab.research.google.com/github/Dhanushiyaa/Certificate-Automation/blob/main/Certificate_Generate_Automation.ipynb\" target=\"_parent\"><img src=\"https://colab.research.google.com/assets/colab-badge.svg\" alt=\"Open In Colab\"/></a>"
      ]
    },
    {
      "cell_type": "code",
      "source": [
        "pip install pandas"
      ],
      "metadata": {
        "colab": {
          "base_uri": "https://localhost:8080/"
        },
        "id": "Asfc7TYtZmjy",
        "outputId": "e45276a6-2785-4a65-892a-5fd13d374aa3"
      },
      "execution_count": null,
      "outputs": [
        {
          "output_type": "stream",
          "name": "stdout",
          "text": [
            "Requirement already satisfied: pandas in /usr/local/lib/python3.10/dist-packages (2.0.3)\n",
            "Requirement already satisfied: python-dateutil>=2.8.2 in /usr/local/lib/python3.10/dist-packages (from pandas) (2.8.2)\n",
            "Requirement already satisfied: pytz>=2020.1 in /usr/local/lib/python3.10/dist-packages (from pandas) (2023.4)\n",
            "Requirement already satisfied: tzdata>=2022.1 in /usr/local/lib/python3.10/dist-packages (from pandas) (2024.1)\n",
            "Requirement already satisfied: numpy>=1.21.0 in /usr/local/lib/python3.10/dist-packages (from pandas) (1.25.2)\n",
            "Requirement already satisfied: six>=1.5 in /usr/local/lib/python3.10/dist-packages (from python-dateutil>=2.8.2->pandas) (1.16.0)\n"
          ]
        }
      ]
    },
    {
      "cell_type": "code",
      "source": [
        "pip install pillow"
      ],
      "metadata": {
        "colab": {
          "base_uri": "https://localhost:8080/"
        },
        "id": "DFSnUcFfZjXP",
        "outputId": "a29e8699-5938-480f-b952-8beab71a841c"
      },
      "execution_count": null,
      "outputs": [
        {
          "output_type": "stream",
          "name": "stdout",
          "text": [
            "Requirement already satisfied: pillow in /usr/local/lib/python3.10/dist-packages (9.4.0)\n"
          ]
        }
      ]
    },
    {
      "cell_type": "code",
      "source": [
        "# importing packages & modules\n",
        "from PIL import Image, ImageDraw, ImageFont\n",
        "import pandas as pd\n",
        "import os"
      ],
      "metadata": {
        "id": "1fy8JKG0aSSv"
      },
      "execution_count": null,
      "outputs": []
    },
    {
      "cell_type": "code",
      "source": [
        "# Create the directory 'pictures'\n",
        "!mkdir pictures"
      ],
      "metadata": {
        "id": "YoEj6DKtqVsL"
      },
      "execution_count": null,
      "outputs": []
    },
    {
      "cell_type": "code",
      "source": [
        "# Implementation to generate certificate\n",
        "df = pd.read_csv('/content/drive/MyDrive/Certificate Automation project/list.csv')\n",
        "\n",
        "font = ImageFont.truetype('/content/drive/MyDrive/Certificate Automation project/GreatVibes-Regular.ttf', 80)"
      ],
      "metadata": {
        "id": "9zIocwhZaTbu"
      },
      "execution_count": null,
      "outputs": []
    },
    {
      "cell_type": "code",
      "source": [
        "from google.colab import drive\n",
        "drive.mount('/content/drive')"
      ],
      "metadata": {
        "colab": {
          "base_uri": "https://localhost:8080/"
        },
        "id": "Cr_Gvh7Chcdz",
        "outputId": "3b01480b-3aea-42be-dd21-4f60580acbf3"
      },
      "execution_count": null,
      "outputs": [
        {
          "output_type": "stream",
          "name": "stdout",
          "text": [
            "Drive already mounted at /content/drive; to attempt to forcibly remount, call drive.mount(\"/content/drive\", force_remount=True).\n"
          ]
        }
      ]
    },
    {
      "cell_type": "code",
      "source": [
        "for index, j in df.iterrows():\n",
        "    img = Image.open('/content/drive/MyDrive/Certificate Automation project/certificate.png')\n",
        "    draw = ImageDraw.Draw(img)\n",
        "\n",
        "    draw.text(xy=(900, 600),\n",
        "              text='{}'.format(j.get('Name', '')),  # Use get() with default value\n",
        "              fill=(0, 0, 0),\n",
        "              font=font)\n",
        "    img.save('pictures/{}.png'.format(j['Name']))"
      ],
      "metadata": {
        "id": "_X4elqyvaaUY"
      },
      "execution_count": null,
      "outputs": []
    }
  ]
}